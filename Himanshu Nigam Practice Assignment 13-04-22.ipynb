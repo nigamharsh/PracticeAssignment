{
 "cells": [
  {
   "cell_type": "markdown",
   "id": "cd84dd43",
   "metadata": {},
   "source": [
    "Answer 1:"
   ]
  },
  {
   "cell_type": "code",
   "execution_count": 1,
   "id": "be11daa9",
   "metadata": {},
   "outputs": [
    {
     "name": "stdout",
     "output_type": "stream",
     "text": [
      "2002,2009,2016,2023,2037,2044,2051,2058,2072,2079,2086,2093,2107,2114,2121,2128,2142,2149,2156,2163,2177,2184,2191,2198,2212,2219,2226,2233,2247,2254,2261,2268,2282,2289,2296,2303,2317,2324,2331,2338,2352,2359,2366,2373,2387,2394,2401,2408,2422,2429,2436,2443,2457,2464,2471,2478,2492,2499,2506,2513,2527,2534,2541,2548,2562,2569,2576,2583,2597,2604,2611,2618,2632,2639,2646,2653,2667,2674,2681,2688,2702,2709,2716,2723,2737,2744,2751,2758,2772,2779,2786,2793,2807,2814,2821,2828,2842,2849,2856,2863,2877,2884,2891,2898,2912,2919,2926,2933,2947,2954,2961,2968,2982,2989,2996,3003,3017,3024,3031,3038,3052,3059,3066,3073,3087,3094,3101,3108,3122,3129,3136,3143,3157,3164,3171,3178,3192,3199\n"
     ]
    }
   ],
   "source": [
    "numbers=[]\n",
    "for i in range(2000, 3201):\n",
    "    if (i%7==0) and (i%5!=0):\n",
    "        numbers.append(str(i))\n",
    "\n",
    "print(','.join(numbers))"
   ]
  },
  {
   "cell_type": "markdown",
   "id": "dcecb5c8",
   "metadata": {},
   "source": [
    "Answer 2:"
   ]
  },
  {
   "cell_type": "code",
   "execution_count": 2,
   "id": "6de24361",
   "metadata": {},
   "outputs": [
    {
     "name": "stdout",
     "output_type": "stream",
     "text": [
      "8\n",
      "40320\n"
     ]
    }
   ],
   "source": [
    "def factorial(n):\n",
    "    if n == 0:\n",
    "        return 1\n",
    "    return n * factorial(n - 1)\n",
    "\n",
    "num = int(input())\n",
    "print(factorial(num))"
   ]
  },
  {
   "cell_type": "markdown",
   "id": "bdd95914",
   "metadata": {},
   "source": [
    "Answer 3:"
   ]
  },
  {
   "cell_type": "code",
   "execution_count": 3,
   "id": "1500ed0d",
   "metadata": {},
   "outputs": [
    {
     "name": "stdout",
     "output_type": "stream",
     "text": [
      "5\n",
      "{1: 1, 2: 4, 3: 9, 4: 16, 5: 25}\n"
     ]
    }
   ],
   "source": [
    "n = int(input())\n",
    "dictionary={}\n",
    "for i in range(1,n+1):\n",
    "    dictionary[i]=i*i\n",
    "print(dictionary)    "
   ]
  },
  {
   "cell_type": "markdown",
   "id": "98102ac7",
   "metadata": {},
   "source": [
    "Answer 4:"
   ]
  },
  {
   "cell_type": "code",
   "execution_count": 4,
   "id": "d306c32f",
   "metadata": {},
   "outputs": [
    {
     "name": "stdout",
     "output_type": "stream",
     "text": [
      "1,2,3,4,5,6\n",
      "['1', '2', '3', '4', '5', '6']\n",
      "('1', '2', '3', '4', '5', '6')\n"
     ]
    }
   ],
   "source": [
    "val = input()\n",
    "mylist = val.split(\",\")\n",
    "mytuple = tuple(mylist)\n",
    "print(mylist)\n",
    "print(mytuple)"
   ]
  },
  {
   "cell_type": "markdown",
   "id": "6928c046",
   "metadata": {},
   "source": [
    "Answer 5:"
   ]
  },
  {
   "cell_type": "code",
   "execution_count": 7,
   "id": "fa4259c0",
   "metadata": {},
   "outputs": [
    {
     "name": "stdout",
     "output_type": "stream",
     "text": [
      "hello\n",
      "HELLO\n"
     ]
    }
   ],
   "source": [
    "class Test:\n",
    "    def __init__(self):\n",
    "        self.string=\"\"\n",
    "        \n",
    "    def getString(self):\n",
    "        self.string=input()\n",
    "        \n",
    "    def printString(self):\n",
    "        print(self.string.upper())\n",
    "     \n",
    "obj = Test()\n",
    "obj.getString()\n",
    "obj.printString()"
   ]
  },
  {
   "cell_type": "markdown",
   "id": "d63fec3c",
   "metadata": {},
   "source": [
    "Answer 6:"
   ]
  },
  {
   "cell_type": "code",
   "execution_count": 12,
   "id": "4e00a779",
   "metadata": {},
   "outputs": [
    {
     "name": "stdout",
     "output_type": "stream",
     "text": [
      "100,150,180\n",
      "18,22,24\n"
     ]
    }
   ],
   "source": [
    "import math\n",
    "def calculateValue(D):\n",
    "    C=50\n",
    "    H=30\n",
    "    value=(2*C*D)/H\n",
    "    return int(math.sqrt(value))\n",
    "\n",
    "numbers = input().split(\",\")\n",
    "result=[]\n",
    "for i in numbers:\n",
    "    result.append(str(calculateValue(int(i))))\n",
    "print(\",\".join(result))   "
   ]
  },
  {
   "cell_type": "markdown",
   "id": "56271570",
   "metadata": {},
   "source": [
    "Answer 7:"
   ]
  },
  {
   "cell_type": "code",
   "execution_count": 13,
   "id": "50e92ff1",
   "metadata": {},
   "outputs": [
    {
     "name": "stdout",
     "output_type": "stream",
     "text": [
      "3,5\n",
      "[[0, 0, 0, 0, 0], [0, 1, 2, 3, 4], [0, 2, 4, 6, 8]]\n"
     ]
    }
   ],
   "source": [
    "row,column = map(int,input().split(','))\n",
    "arr_2d = [[i*j for j in range(column)] for i in range(row)]\n",
    "print(arr_2d)"
   ]
  },
  {
   "cell_type": "markdown",
   "id": "62e101d5",
   "metadata": {},
   "source": [
    "Answer 8:"
   ]
  },
  {
   "cell_type": "code",
   "execution_count": 14,
   "id": "8c8be396",
   "metadata": {},
   "outputs": [
    {
     "name": "stdout",
     "output_type": "stream",
     "text": [
      "without,hello,bag,world\n",
      "bag,hello,without,world\n"
     ]
    }
   ],
   "source": [
    "words = input().split(\",\")\n",
    "words.sort()\n",
    "print(\",\".join(words))"
   ]
  },
  {
   "cell_type": "markdown",
   "id": "bc96a581",
   "metadata": {},
   "source": [
    "Answer 9:"
   ]
  },
  {
   "cell_type": "code",
   "execution_count": 18,
   "id": "aceed1af",
   "metadata": {},
   "outputs": [
    {
     "name": "stdout",
     "output_type": "stream",
     "text": [
      "Hello World\n",
      "Practice makes perfect\n",
      "\n",
      "HELLO WORLD\n",
      "PRACTICE MAKES PERFECT\n"
     ]
    }
   ],
   "source": [
    "mylist=[]\n",
    "while True:\n",
    "    line = input()\n",
    "    if(len(line)==0):\n",
    "        break\n",
    "    mylist.append(line.upper()) \n",
    "    \n",
    "for i in mylist:\n",
    "    print(i)"
   ]
  },
  {
   "cell_type": "markdown",
   "id": "bc63991b",
   "metadata": {},
   "source": [
    "Answer 10:"
   ]
  },
  {
   "cell_type": "code",
   "execution_count": 19,
   "id": "627f85a1",
   "metadata": {},
   "outputs": [
    {
     "name": "stdout",
     "output_type": "stream",
     "text": [
      "hello world and practice makes perfect and hello world again\n",
      "again and hello makes perfect practice world\n"
     ]
    }
   ],
   "source": [
    "words = input().split(\" \")\n",
    "for i in words:\n",
    "    if words.count(i)>1:\n",
    "        words.remove(i)\n",
    "        \n",
    "words.sort()\n",
    "print(\" \".join(words))"
   ]
  },
  {
   "cell_type": "markdown",
   "id": "77407372",
   "metadata": {},
   "source": [
    "Answer 11:"
   ]
  },
  {
   "cell_type": "code",
   "execution_count": 21,
   "id": "a1896ce2",
   "metadata": {},
   "outputs": [
    {
     "name": "stdout",
     "output_type": "stream",
     "text": [
      "0100,0011,1010,1001\n",
      "1010\n"
     ]
    }
   ],
   "source": [
    "binaryList = input().split(\",\")\n",
    "result=[]\n",
    "for i in binaryList:\n",
    "    if(int(i,2)%5==0):\n",
    "       result.append(i)\n",
    "print(\",\".join(result))        "
   ]
  },
  {
   "cell_type": "markdown",
   "id": "7ff204fd",
   "metadata": {},
   "source": [
    "Answer 12:"
   ]
  },
  {
   "cell_type": "code",
   "execution_count": 22,
   "id": "6a38c52f",
   "metadata": {},
   "outputs": [
    {
     "name": "stdout",
     "output_type": "stream",
     "text": [
      "2000,2002,2004,2006,2008,2020,2022,2024,2026,2028,2040,2042,2044,2046,2048,2060,2062,2064,2066,2068,2080,2082,2084,2086,2088,2200,2202,2204,2206,2208,2220,2222,2224,2226,2228,2240,2242,2244,2246,2248,2260,2262,2264,2266,2268,2280,2282,2284,2286,2288,2400,2402,2404,2406,2408,2420,2422,2424,2426,2428,2440,2442,2444,2446,2448,2460,2462,2464,2466,2468,2480,2482,2484,2486,2488,2600,2602,2604,2606,2608,2620,2622,2624,2626,2628,2640,2642,2644,2646,2648,2660,2662,2664,2666,2668,2680,2682,2684,2686,2688,2800,2802,2804,2806,2808,2820,2822,2824,2826,2828,2840,2842,2844,2846,2848,2860,2862,2864,2866,2868,2880,2882,2884,2886,2888\n"
     ]
    }
   ],
   "source": [
    "result=[]\n",
    "for i in range(1000,3001):\n",
    "    number=str(i)\n",
    "    if(int(number[0])%2==0 and int(number[1])%2==0 and int(number[2])%2==0 and int(number[3])%2==0):\n",
    "       result.append(number) \n",
    "print(\",\".join(result))    "
   ]
  },
  {
   "cell_type": "markdown",
   "id": "e55e045c",
   "metadata": {},
   "source": [
    "Answer 13:"
   ]
  },
  {
   "cell_type": "code",
   "execution_count": 24,
   "id": "48aef8be",
   "metadata": {},
   "outputs": [
    {
     "name": "stdout",
     "output_type": "stream",
     "text": [
      "hello world! 123\n",
      "LETTERS 10\n",
      "DIGITS 3\n"
     ]
    }
   ],
   "source": [
    "sentence = input()\n",
    "letters,digits=0,0\n",
    "for i in sentence:\n",
    "    if(i>='a' and i<='z') or (i>='A' and i<'Z'):\n",
    "       letters+=1\n",
    "    elif i>='0' and i<='9':\n",
    "            digits+=1\n",
    "print(\"LETTERS {}\".format(letters))\n",
    "print(\"DIGITS {}\".format(digits))"
   ]
  },
  {
   "cell_type": "markdown",
   "id": "58c1113a",
   "metadata": {},
   "source": [
    "Answer 14:"
   ]
  },
  {
   "cell_type": "code",
   "execution_count": 27,
   "id": "2017a42c",
   "metadata": {},
   "outputs": [
    {
     "name": "stdout",
     "output_type": "stream",
     "text": [
      "Hello world!\n",
      "UPPER CASE 1\n",
      "LOWER CASE 9\n"
     ]
    }
   ],
   "source": [
    "sentence=input()\n",
    "upperCase,lowerCase=0,0\n",
    "for i in sentence:\n",
    "    if i>='a' and i<='z':\n",
    "        lowerCase+=1\n",
    "    elif i>='A' and i<='Z': \n",
    "        upperCase+=1\n",
    "print(\"UPPER CASE {}\".format(upperCase))\n",
    "print(\"LOWER CASE {}\".format(lowerCase))        "
   ]
  },
  {
   "cell_type": "markdown",
   "id": "5756b272",
   "metadata": {},
   "source": [
    "Answer 15:"
   ]
  },
  {
   "cell_type": "code",
   "execution_count": 32,
   "id": "438c11a2",
   "metadata": {},
   "outputs": [
    {
     "name": "stdout",
     "output_type": "stream",
     "text": [
      "9\n",
      "11106\n"
     ]
    }
   ],
   "source": [
    "n = input()\n",
    "sum1,temp = 0,str()        \n",
    "\n",
    "for i in range(4):\n",
    "    temp+=n\n",
    "    sum1+=int(temp)      \n",
    "\n",
    "print(sum1)"
   ]
  },
  {
   "cell_type": "markdown",
   "id": "8155be29",
   "metadata": {},
   "source": [
    "Answer 16:"
   ]
  },
  {
   "cell_type": "code",
   "execution_count": 33,
   "id": "d4539aa2",
   "metadata": {},
   "outputs": [
    {
     "name": "stdout",
     "output_type": "stream",
     "text": [
      "1,2,3,4,5,6,7,8,9\n",
      "1,9,25,49,81\n"
     ]
    }
   ],
   "source": [
    "numbers = [str(int(i)**2) for i in input().split(',') if int(i) % 2]\n",
    "print(\",\".join(numbers))"
   ]
  },
  {
   "cell_type": "markdown",
   "id": "fd1de5a3",
   "metadata": {},
   "source": [
    "Answer 17:"
   ]
  },
  {
   "cell_type": "code",
   "execution_count": 35,
   "id": "8b01a260",
   "metadata": {},
   "outputs": [
    {
     "name": "stdout",
     "output_type": "stream",
     "text": [
      "D 300\n",
      "D 300\n",
      "W 200\n",
      "D 100\n",
      "\n",
      "500\n"
     ]
    }
   ],
   "source": [
    "total = 0\n",
    "while True:\n",
    "    string = input().split()\n",
    "    if not string:            \n",
    "        break\n",
    "    action,amt = map(str,string)    \n",
    "\n",
    "    if action=='D':\n",
    "        total+=int(amt)\n",
    "    if action=='W':\n",
    "        total-=int(amt)\n",
    "print(total)        "
   ]
  },
  {
   "cell_type": "markdown",
   "id": "c2ed8db3",
   "metadata": {},
   "source": [
    "Answer 18:"
   ]
  },
  {
   "cell_type": "code",
   "execution_count": 38,
   "id": "51be8044",
   "metadata": {},
   "outputs": [
    {
     "name": "stdout",
     "output_type": "stream",
     "text": [
      "ABd1234@1,a F1#,2w3E*,2We3345\n",
      "ABd1234@1\n"
     ]
    }
   ],
   "source": [
    "import re\n",
    "value = []\n",
    "items = [x for x in input().split(',')]\n",
    "for p in items:\n",
    "    if len(p) < 6 or len(p) > 12:\n",
    "        continue\n",
    "    else:\n",
    "        pass\n",
    "    if not re.search(\"[a-z]\",p):\n",
    "        continue\n",
    "    elif not re.search(\"[0-9]\",p):\n",
    "        continue\n",
    "    elif not re.search(\"[A-Z]\",p):\n",
    "        continue\n",
    "    elif not re.search(\"[$#@]\",p):\n",
    "        continue\n",
    "    elif re.search(\"\\s\",p):\n",
    "        continue\n",
    "    else:\n",
    "        pass\n",
    "    value.append(p)\n",
    "print (\",\".join(value))"
   ]
  },
  {
   "cell_type": "markdown",
   "id": "07360a66",
   "metadata": {},
   "source": [
    "Answer 19:"
   ]
  },
  {
   "cell_type": "code",
   "execution_count": 41,
   "id": "6b3604bf",
   "metadata": {},
   "outputs": [
    {
     "name": "stdout",
     "output_type": "stream",
     "text": [
      "Tom,19,80\n",
      "John,20,90\n",
      "Jony,17,91\n",
      "Jony,17,93\n",
      "Json,21,85\n",
      "\n",
      "[('John', '20', '90'), ('Jony', '17', '91'), ('Jony', '17', '93'), ('Json', '21', '85'), ('Tom', '19', '80')]\n"
     ]
    }
   ],
   "source": [
    "mylist = []\n",
    "while True:\n",
    "    s = input().split(',')\n",
    "    if not s[0]:                          \n",
    "        break\n",
    "    mylist.append(tuple(s))\n",
    "\n",
    "mylist.sort(key= lambda x:(x[0],int(x[1]),int(x[2])))\n",
    "print(mylist)"
   ]
  },
  {
   "cell_type": "markdown",
   "id": "53ea3a2d",
   "metadata": {},
   "source": [
    "Answer 20:"
   ]
  },
  {
   "cell_type": "code",
   "execution_count": 42,
   "id": "82fce76d",
   "metadata": {},
   "outputs": [
    {
     "name": "stdout",
     "output_type": "stream",
     "text": [
      "Please enter a number... 100\n",
      "0\n",
      "7\n",
      "14\n",
      "21\n",
      "28\n",
      "35\n",
      "42\n",
      "49\n",
      "56\n",
      "63\n",
      "70\n",
      "77\n",
      "84\n",
      "91\n",
      "98\n"
     ]
    }
   ],
   "source": [
    "class Divisible:\n",
    "\n",
    "    def by_seven(self, n):\n",
    "        for number in range(1,n + 1):\n",
    "            if number % 7 == 0:\n",
    "                yield number\n",
    "\n",
    "\n",
    "divisible = Divisible()\n",
    "generator = divisible.by_seven(int(input(\"Please insert a number. --> \")))\n",
    "for number in generator:\n",
    "    print(number)"
   ]
  },
  {
   "cell_type": "markdown",
   "id": "14fdf027",
   "metadata": {},
   "source": [
    "Answer 21:"
   ]
  },
  {
   "cell_type": "code",
   "execution_count": 44,
   "id": "afefb290",
   "metadata": {},
   "outputs": [
    {
     "name": "stdout",
     "output_type": "stream",
     "text": [
      "UP 5\n",
      "DOWN 3\n",
      "LEFT 3\n",
      "RIGHT 2\n",
      "\n",
      "2\n"
     ]
    }
   ],
   "source": [
    "import math\n",
    "pos = [0,0]\n",
    "while True:\n",
    "    string = input()\n",
    "    if not string:\n",
    "        break\n",
    "    movement = string.split(\" \")\n",
    "    direction = movement[0]\n",
    "    steps = int(movement[1])\n",
    "    if direction==\"UP\":\n",
    "        pos[0]+=steps\n",
    "    elif direction==\"DOWN\":\n",
    "        pos[0]-=steps\n",
    "    elif direction==\"LEFT\":\n",
    "        pos[1]-=steps\n",
    "    elif direction==\"RIGHT\":\n",
    "        pos[1]+=steps\n",
    "    else:\n",
    "        pass\n",
    "\n",
    "print (int(round(math.sqrt(pos[1]**2+pos[0]**2))))"
   ]
  },
  {
   "cell_type": "markdown",
   "id": "fc1be894",
   "metadata": {},
   "source": [
    "Answer 22:"
   ]
  },
  {
   "cell_type": "code",
   "execution_count": 47,
   "id": "f3def5cd",
   "metadata": {},
   "outputs": [
    {
     "name": "stdout",
     "output_type": "stream",
     "text": [
      "New to Python or choosing between Python 2 and Python 3? Read Python 2 or Python 3\n",
      "New:1\n",
      "to:1\n",
      "Python:5\n",
      "or:2\n",
      "choosing:1\n",
      "between:1\n",
      "2:2\n",
      "and:1\n",
      "3?:1\n",
      "Read:1\n",
      "3:1\n"
     ]
    }
   ],
   "source": [
    "frequency = {}  \n",
    "line = input()\n",
    "for word in line.split():\n",
    "    frequency[word] = frequency.get(word,0)+1\n",
    "\n",
    "words = frequency.keys()\n",
    "lst = list(words)\n",
    "lst.sort()\n",
    "\n",
    "for w in words:\n",
    "    print (\"%s:%d\" % (w,frequency[w]))"
   ]
  },
  {
   "cell_type": "markdown",
   "id": "1bb90ac9",
   "metadata": {},
   "source": [
    "Answer 23:"
   ]
  },
  {
   "cell_type": "code",
   "execution_count": 49,
   "id": "02d876b6",
   "metadata": {},
   "outputs": [
    {
     "name": "stdout",
     "output_type": "stream",
     "text": [
      "4\n",
      "9\n"
     ]
    }
   ],
   "source": [
    "def square(num):\n",
    "    return num ** 2\n",
    "\n",
    "print(square(2))\n",
    "print(square(3))"
   ]
  },
  {
   "cell_type": "markdown",
   "id": "0bbec941",
   "metadata": {},
   "source": [
    "Answer 24:"
   ]
  },
  {
   "cell_type": "code",
   "execution_count": 51,
   "id": "30f84246",
   "metadata": {},
   "outputs": [
    {
     "name": "stdout",
     "output_type": "stream",
     "text": [
      "str(object='') -> str\n",
      "str(bytes_or_buffer[, encoding[, errors]]) -> str\n",
      "\n",
      "Create a new string object from the given object. If encoding or\n",
      "errors is specified, then the object must expose a data buffer\n",
      "that will be decoded using the given encoding and error handler.\n",
      "Otherwise, returns the result of object.__str__() (if defined)\n",
      "or repr(object).\n",
      "encoding defaults to sys.getdefaultencoding().\n",
      "errors defaults to 'strict'.\n",
      "Return a new list containing all items from the iterable in ascending order.\n",
      "\n",
      "A custom key function can be supplied to customize the sort order, and the\n",
      "reverse flag can be set to request the result in descending order.\n",
      "15625\n",
      "None\n"
     ]
    }
   ],
   "source": [
    "print(str.__doc__)\n",
    "print(sorted.__doc__)\n",
    "\n",
    "def pow(n,p):\n",
    "    return n**p\n",
    "\n",
    "print(pow(5,6))\n",
    "print(pow.__doc__)"
   ]
  },
  {
   "cell_type": "markdown",
   "id": "1669ef88",
   "metadata": {},
   "source": [
    "Answer 25:"
   ]
  },
  {
   "cell_type": "code",
   "execution_count": 53,
   "id": "6274f7f0",
   "metadata": {},
   "outputs": [
    {
     "name": "stdout",
     "output_type": "stream",
     "text": [
      "Car name is Hyundai\n",
      "Car name is Toyota\n"
     ]
    }
   ],
   "source": [
    "class Car:\n",
    "    name = \"Car\"\n",
    "\n",
    "    def __init__(self,name = None):\n",
    "        self.name = name\n",
    "\n",
    "hyundai=Car(\"Hyundai\")\n",
    "print(\"%s name is %s\"%(Car.name,hyundai.name))\n",
    "\n",
    "eon=Car()\n",
    "eon.name=\"Toyota\"\n",
    "print(\"%s name is %s\"%(Car.name,eon.name))"
   ]
  },
  {
   "cell_type": "markdown",
   "id": "d1eb7900",
   "metadata": {},
   "source": [
    "Answer 26:"
   ]
  },
  {
   "cell_type": "code",
   "execution_count": 55,
   "id": "bea566ed",
   "metadata": {},
   "outputs": [
    {
     "name": "stdout",
     "output_type": "stream",
     "text": [
      "9\n"
     ]
    }
   ],
   "source": [
    "def Sum(num1, num2):\n",
    "    return num1 + num2\n",
    "\n",
    "print(Sum(4,5))"
   ]
  },
  {
   "cell_type": "markdown",
   "id": "d74dfe5c",
   "metadata": {},
   "source": [
    "Answer 27:"
   ]
  },
  {
   "cell_type": "code",
   "execution_count": 56,
   "id": "08ca5358",
   "metadata": {},
   "outputs": [
    {
     "name": "stdout",
     "output_type": "stream",
     "text": [
      "<class 'str'>\n"
     ]
    }
   ],
   "source": [
    "convert = lambda n : str(n)\n",
    "n = convert(25)\n",
    "print(type(n))"
   ]
  },
  {
   "cell_type": "markdown",
   "id": "5f947e11",
   "metadata": {},
   "source": [
    "Answer 28:"
   ]
  },
  {
   "cell_type": "code",
   "execution_count": 59,
   "id": "6b73c774",
   "metadata": {},
   "outputs": [
    {
     "name": "stdout",
     "output_type": "stream",
     "text": [
      "7\n"
     ]
    }
   ],
   "source": [
    "def printSum(string1,string2):\n",
    "    print (int(string1) + int(string2))\n",
    "printSum(\"3\",\"4\")"
   ]
  },
  {
   "cell_type": "markdown",
   "id": "da275461",
   "metadata": {},
   "source": [
    "Answer 29:"
   ]
  },
  {
   "cell_type": "code",
   "execution_count": 63,
   "id": "7c612300",
   "metadata": {},
   "outputs": [
    {
     "name": "stdout",
     "output_type": "stream",
     "text": [
      "Hello\n",
      "World\n",
      "HelloWorld\n"
     ]
    }
   ],
   "source": [
    "def concatenateStrings(str1,str2):\n",
    "    return str1+str2\n",
    "\n",
    "string1 = input()\n",
    "string2 = input()\n",
    "print(concatenateStrings(string1,string2))\n"
   ]
  },
  {
   "cell_type": "markdown",
   "id": "175e449e",
   "metadata": {},
   "source": [
    "Answer 30:"
   ]
  },
  {
   "cell_type": "code",
   "execution_count": 66,
   "id": "5d01add5",
   "metadata": {},
   "outputs": [
    {
     "name": "stdout",
     "output_type": "stream",
     "text": [
      "Anderson\n"
     ]
    }
   ],
   "source": [
    "def printValue(s1,s2):\n",
    "    len1 = len(s1)\n",
    "    len2 = len(s2)\n",
    "    if len1 > len2:\n",
    "        print(s1)\n",
    "    elif len2 > len1:\n",
    "        print(s2)\n",
    "    else:\n",
    "        print(s1)\n",
    "        print(s2)\n",
    "\n",
    "printValue(\"James\",\"Anderson\")"
   ]
  },
  {
   "cell_type": "markdown",
   "id": "91db3647",
   "metadata": {},
   "source": [
    "Answer 31:"
   ]
  },
  {
   "cell_type": "code",
   "execution_count": 68,
   "id": "cb5f6e60",
   "metadata": {},
   "outputs": [
    {
     "name": "stdout",
     "output_type": "stream",
     "text": [
      "{1: 1, 2: 4, 3: 9, 4: 16, 5: 25, 6: 36, 7: 49, 8: 64, 9: 81, 10: 100, 11: 121, 12: 144, 13: 169, 14: 196, 15: 225, 16: 256, 17: 289, 18: 324, 19: 361, 20: 400}\n"
     ]
    }
   ],
   "source": [
    "def printDictionary():\n",
    "    d=dict()\n",
    "    for i in range(1,21):\n",
    "        d[i]=i**2\n",
    "    print(d)\n",
    "\n",
    "printDictionary()"
   ]
  },
  {
   "cell_type": "markdown",
   "id": "1c28f363",
   "metadata": {},
   "source": [
    "Answer 32:"
   ]
  },
  {
   "cell_type": "code",
   "execution_count": 69,
   "id": "c575477c",
   "metadata": {},
   "outputs": [
    {
     "name": "stdout",
     "output_type": "stream",
     "text": [
      "dict_keys([1, 2, 3, 4, 5, 6, 7, 8, 9, 10, 11, 12, 13, 14, 15, 16, 17, 18, 19, 20])\n"
     ]
    }
   ],
   "source": [
    "def printDictionary():\n",
    "    d=dict()\n",
    "    for i in range(1,21):\n",
    "    d[i]=i**2\n",
    "    print(d.keys())\n",
    "\n",
    "printDictionary()"
   ]
  },
  {
   "cell_type": "markdown",
   "id": "167a06a7",
   "metadata": {},
   "source": [
    "Answer 33:"
   ]
  },
  {
   "cell_type": "code",
   "execution_count": 71,
   "id": "d3ab7bb8",
   "metadata": {},
   "outputs": [
    {
     "name": "stdout",
     "output_type": "stream",
     "text": [
      "[1, 4, 9, 16, 25, 36, 49, 64, 81, 100, 121, 144, 169, 196, 225, 256, 289, 324, 361, 400]\n"
     ]
    }
   ],
   "source": [
    "def printList():\n",
    "    li=list()\n",
    "    for i in range(1,21):\n",
    "         li.append(i**2)\n",
    "    print(li)\n",
    "\n",
    "printList()"
   ]
  },
  {
   "cell_type": "markdown",
   "id": "6bfa1fce",
   "metadata": {},
   "source": [
    "Answer 34:"
   ]
  },
  {
   "cell_type": "code",
   "execution_count": 73,
   "id": "9099e10b",
   "metadata": {},
   "outputs": [
    {
     "name": "stdout",
     "output_type": "stream",
     "text": [
      "[1, 4, 9, 16, 25]\n"
     ]
    }
   ],
   "source": [
    "def printList():\n",
    "    mylist=list()\n",
    "    for i in range(1,21):\n",
    "        mylist.append(i**2)\n",
    "    print(mylist[:5])\n",
    "\n",
    "printList()"
   ]
  },
  {
   "cell_type": "markdown",
   "id": "4424341b",
   "metadata": {},
   "source": [
    "Answer 35:"
   ]
  },
  {
   "cell_type": "code",
   "execution_count": 75,
   "id": "0f309282",
   "metadata": {},
   "outputs": [
    {
     "name": "stdout",
     "output_type": "stream",
     "text": [
      "[256, 289, 324, 361, 400]\n"
     ]
    }
   ],
   "source": [
    "def printList():\n",
    "    mylist=list()\n",
    "    for i in range(1,21):\n",
    "        mylist.append(i**2)\n",
    "    print(mylist[-5:])\n",
    "\n",
    "printList()"
   ]
  },
  {
   "cell_type": "markdown",
   "id": "5c03f559",
   "metadata": {},
   "source": [
    "Answer 36:"
   ]
  },
  {
   "cell_type": "code",
   "execution_count": 77,
   "id": "ed37e86f",
   "metadata": {},
   "outputs": [
    {
     "name": "stdout",
     "output_type": "stream",
     "text": [
      "[36, 49, 64, 81, 100, 121, 144, 169, 196, 225, 256, 289, 324, 361, 400]\n"
     ]
    }
   ],
   "source": [
    "def printList():\n",
    "    mylist=list()\n",
    "    for i in range(1,21):\n",
    "        mylist.append(i**2)\n",
    "    print(mylist[5:])\n",
    "\n",
    "printList()"
   ]
  },
  {
   "cell_type": "markdown",
   "id": "36fad4ab",
   "metadata": {},
   "source": [
    "Answer 37:"
   ]
  },
  {
   "cell_type": "code",
   "execution_count": 79,
   "id": "34c6f5d6",
   "metadata": {},
   "outputs": [
    {
     "name": "stdout",
     "output_type": "stream",
     "text": [
      "(1, 4, 9, 16, 25, 36, 49, 64, 81, 100, 121, 144, 169, 196, 225, 256, 289, 324, 361, 400)\n"
     ]
    }
   ],
   "source": [
    "def printTuple():\n",
    "    li=list()\n",
    "    for i in range(1,21):\n",
    "        li.append(i**2) \n",
    "    print(tuple(li))\n",
    "\n",
    "printTuple()"
   ]
  },
  {
   "cell_type": "markdown",
   "id": "0cdaefec",
   "metadata": {},
   "source": [
    "Answer 38:"
   ]
  },
  {
   "cell_type": "code",
   "execution_count": 81,
   "id": "04ce5acb",
   "metadata": {},
   "outputs": [
    {
     "name": "stdout",
     "output_type": "stream",
     "text": [
      "(1, 2, 3, 4, 5)\n",
      "(6, 7, 8, 9, 10)\n"
     ]
    }
   ],
   "source": [
    "tuple1 = (1,2,3,4,5,6,7,8,9,10)\n",
    "print(tuple1[:5])\n",
    "print(tuple1[5:])"
   ]
  },
  {
   "cell_type": "markdown",
   "id": "976f8303",
   "metadata": {},
   "source": [
    "Answer 39:"
   ]
  },
  {
   "cell_type": "code",
   "execution_count": 84,
   "id": "edb6cddc",
   "metadata": {},
   "outputs": [
    {
     "name": "stdout",
     "output_type": "stream",
     "text": [
      "(2, 4, 6, 8, 10)\n"
     ]
    }
   ],
   "source": [
    "tp = (1,2,3,4,5,6,7,8,9,10)\n",
    "li = list()\n",
    "for i in tp:\n",
    "    if i%2 == 0:\n",
    "        li.append(i)\n",
    "\n",
    "tp2 = tuple(li)\n",
    "print(tp2)"
   ]
  },
  {
   "cell_type": "code",
   "execution_count": null,
   "id": "f48233c3",
   "metadata": {},
   "outputs": [],
   "source": [
    "Answer 40:"
   ]
  },
  {
   "cell_type": "code",
   "execution_count": 86,
   "id": "2e116457",
   "metadata": {},
   "outputs": [
    {
     "name": "stdout",
     "output_type": "stream",
     "text": [
      "YES\n",
      "Yes\n"
     ]
    }
   ],
   "source": [
    "text = input()\n",
    "if text == \"yes\" or text == \"YES\" or text == \"Yes\":\n",
    "    print(\"Yes\")\n",
    "else:\n",
    "    print(\"No\")"
   ]
  },
  {
   "cell_type": "markdown",
   "id": "558b59a8",
   "metadata": {},
   "source": [
    "Answer 41:"
   ]
  },
  {
   "cell_type": "code",
   "execution_count": 87,
   "id": "1cdbaa9a",
   "metadata": {},
   "outputs": [
    {
     "name": "stdout",
     "output_type": "stream",
     "text": [
      "[1, 4, 9, 16, 25, 36, 49, 64, 81, 100]\n"
     ]
    }
   ],
   "source": [
    "mylist= [1,2,3,4,5,6,7,8,9,10]\n",
    "squares = map(lambda n: n**2, mylist)  # returns map type object data\n",
    "print(list(squares))               "
   ]
  },
  {
   "cell_type": "markdown",
   "id": "d8c63835",
   "metadata": {},
   "source": [
    "Answer 42:"
   ]
  },
  {
   "cell_type": "code",
   "execution_count": 89,
   "id": "ead6460b",
   "metadata": {},
   "outputs": [
    {
     "name": "stdout",
     "output_type": "stream",
     "text": [
      "<map object at 0x00000205420492D0>\n"
     ]
    }
   ],
   "source": [
    "list1 = [1,2,3,4,5,6,7,8,9,10]\n",
    "evenNumbers = map(lambda x: x**2, filter(lambda x: x%2==0, list1))\n",
    "print(evenNumbers)"
   ]
  },
  {
   "cell_type": "markdown",
   "id": "bcd76d55",
   "metadata": {},
   "source": [
    "Answer 43:"
   ]
  },
  {
   "cell_type": "code",
   "execution_count": 91,
   "id": "6ce17c96",
   "metadata": {},
   "outputs": [
    {
     "name": "stdout",
     "output_type": "stream",
     "text": [
      "<filter object at 0x00000205420279D0>\n"
     ]
    }
   ],
   "source": [
    "evenNumbers = filter(lambda n: n%2==0, range(1,21))\n",
    "print(evenNumbers)"
   ]
  },
  {
   "cell_type": "markdown",
   "id": "aeb97fc8",
   "metadata": {},
   "source": [
    "Answer 44:"
   ]
  },
  {
   "cell_type": "code",
   "execution_count": 92,
   "id": "f70e01b6",
   "metadata": {},
   "outputs": [
    {
     "name": "stdout",
     "output_type": "stream",
     "text": [
      "<map object at 0x00000205420436A0>\n"
     ]
    }
   ],
   "source": [
    "squaredNumbers = map(lambda n: n**2, range(1,21))\n",
    "print(squaredNumbers)"
   ]
  },
  {
   "cell_type": "markdown",
   "id": "b1143452",
   "metadata": {},
   "source": [
    "Answer 45:"
   ]
  },
  {
   "cell_type": "code",
   "execution_count": 94,
   "id": "2027a241",
   "metadata": {},
   "outputs": [
    {
     "name": "stdout",
     "output_type": "stream",
     "text": [
      "America\n",
      "America\n"
     ]
    }
   ],
   "source": [
    "class American(object):\n",
    "    @staticmethod\n",
    "    def printNationality():\n",
    "        print(\"America\")\n",
    "\n",
    "american = American()\n",
    "american.printNationality()\n",
    "American.printNationality()"
   ]
  },
  {
   "cell_type": "markdown",
   "id": "b11e851d",
   "metadata": {},
   "source": [
    "Answer 46:"
   ]
  },
  {
   "cell_type": "code",
   "execution_count": 95,
   "id": "5a3d71df",
   "metadata": {},
   "outputs": [
    {
     "name": "stdout",
     "output_type": "stream",
     "text": [
      "<__main__.American object at 0x0000020542048E50>\n",
      "<__main__.NewYorker object at 0x00000205420412A0>\n"
     ]
    }
   ],
   "source": [
    "class American():\n",
    "    pass\n",
    "\n",
    "class NewYorker(American):\n",
    "    pass\n",
    "\n",
    "american = American()\n",
    "newyorker = NewYorker()\n",
    "\n",
    "print(american)\n",
    "print(newyorker)"
   ]
  },
  {
   "cell_type": "markdown",
   "id": "04778094",
   "metadata": {},
   "source": [
    "Answer 47:"
   ]
  },
  {
   "cell_type": "code",
   "execution_count": 96,
   "id": "7b94de9d",
   "metadata": {},
   "outputs": [
    {
     "name": "stdout",
     "output_type": "stream",
     "text": [
      "12.56\n"
     ]
    }
   ],
   "source": [
    "class Circle(object):\n",
    "    def __init__(self, r):\n",
    "        self.radius = r\n",
    "\n",
    "    def area(self):\n",
    "        return self.radius**2*3.14\n",
    "\n",
    "circle = Circle(2)\n",
    "print(circle.area())"
   ]
  },
  {
   "cell_type": "markdown",
   "id": "41fce71c",
   "metadata": {},
   "source": [
    "Answer 48:"
   ]
  },
  {
   "cell_type": "code",
   "execution_count": 97,
   "id": "fdeda333",
   "metadata": {},
   "outputs": [
    {
     "name": "stdout",
     "output_type": "stream",
     "text": [
      "8\n"
     ]
    }
   ],
   "source": [
    "class Rectangle():\n",
    "    def __init__(self,l,w):\n",
    "        self.length = l\n",
    "        self.width = w\n",
    "\n",
    "    def area(self):\n",
    "        return self.length*self.width\n",
    "\n",
    "\n",
    "rectangle = Rectangle(2,4)\n",
    "print(rectangle.area())"
   ]
  },
  {
   "cell_type": "markdown",
   "id": "e21a1e4a",
   "metadata": {},
   "source": [
    "Answer 49:"
   ]
  },
  {
   "cell_type": "code",
   "execution_count": 99,
   "id": "a12ad713",
   "metadata": {},
   "outputs": [
    {
     "name": "stdout",
     "output_type": "stream",
     "text": [
      "9\n"
     ]
    }
   ],
   "source": [
    "class Shape:\n",
    "    def __init__(self):\n",
    "        pass\n",
    "\n",
    "    def area(self):\n",
    "        return 0\n",
    "\n",
    "class Square(Shape):\n",
    "    def __init__(self, l):\n",
    "        Shape.__init__(self)\n",
    "        self.length = l\n",
    "\n",
    "    def area(self):\n",
    "        return self.length*self.length\n",
    "\n",
    "square= Square(3)\n",
    "print(square.area())"
   ]
  },
  {
   "cell_type": "markdown",
   "id": "027d4343",
   "metadata": {},
   "source": [
    "Answer 50:"
   ]
  },
  {
   "cell_type": "code",
   "execution_count": null,
   "id": "3ccf340e",
   "metadata": {},
   "outputs": [],
   "source": [
    "raise RuntimeError('Some Error')"
   ]
  }
 ],
 "metadata": {
  "kernelspec": {
   "display_name": "Python 3 (ipykernel)",
   "language": "python",
   "name": "python3"
  },
  "language_info": {
   "codemirror_mode": {
    "name": "ipython",
    "version": 3
   },
   "file_extension": ".py",
   "mimetype": "text/x-python",
   "name": "python",
   "nbconvert_exporter": "python",
   "pygments_lexer": "ipython3",
   "version": "3.10.1"
  }
 },
 "nbformat": 4,
 "nbformat_minor": 5
}
